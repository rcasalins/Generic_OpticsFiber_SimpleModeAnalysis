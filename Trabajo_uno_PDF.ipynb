{
 "cells": [
  {
   "cell_type": "markdown",
   "id": "90da5e8b-621c-40b7-932d-7b01dd94a7bd",
   "metadata": {},
   "source": [
    "# Trabajo 1 - Fotónica y fibras ópticas"
   ]
  },
  {
   "cell_type": "code",
   "execution_count": 1,
   "id": "dbb09b95-f7bb-4918-9d24-ac2bf54c85bd",
   "metadata": {},
   "outputs": [],
   "source": [
    "import numpy as np\n",
    "from Zeros import *\n",
    "import matplotlib.pyplot as plt\n",
    "import pandas as pd"
   ]
  },
  {
   "cell_type": "markdown",
   "id": "a6f37bb9-973d-4c53-a81f-1f8151fe6c9e",
   "metadata": {},
   "source": [
    "## Metodo de rayos"
   ]
  },
  {
   "cell_type": "markdown",
   "id": "a4151365-a799-48ee-b3b6-ce333114d2b5",
   "metadata": {},
   "source": [
    "### Modos TE:"
   ]
  },
  {
   "cell_type": "markdown",
   "id": "f4715b7c-ec0a-49be-8a29-f0c5e7726223",
   "metadata": {},
   "source": [
    "Resolver la ecuación trascendental:\n",
    "\n",
    "$$hk_{0}n_{co}cos(\\theta_{m})=m\\pi+2tan^{-1}(\\frac{[n_{co}^{2}sin^{2}(\\theta_{m})-n_{cl}^{2}]^{1/2}}{n_{co}cos(\\theta_{m})})$$"
   ]
  },
  {
   "cell_type": "markdown",
   "id": "a359910e-b34f-46af-8a6f-3f1a5347cbd5",
   "metadata": {},
   "source": [
    "Con los siguientes parametros:\n",
    "\n",
    "$$n_{co}=1.5$$\n",
    "$$n_{cl}=1.0$$\n",
    "$$h=1\\mu m$$\n",
    "$$\\lambda_{0}=1\\mu m$$"
   ]
  },
  {
   "cell_type": "markdown",
   "id": "62e6ae38-b465-4f03-a4a3-e8808df3193d",
   "metadata": {},
   "source": [
    "Obtenemos que la siguiente ecuación trascendental:\n",
    "\n",
    "$$V(1-b)^{1/2}=m\\pi+2tan^{-1}\\left[\\left(\\frac{b}{1-b}\\right)^{1/2}\\right]$$"
   ]
  },
  {
   "cell_type": "markdown",
   "id": "c05bfdb6-5230-4798-8253-e05817f11e29",
   "metadata": {},
   "source": [
    "Para resolver la ecuación trascendental anterior, se hallaran los ceros de la siguiente función:\n",
    "\n",
    "$$V(1-b)^{1/2}-m\\pi-2tan^{-1}\\left[\\left(\\frac{b}{1-b}\\right)^{1/2}\\right]=0$$\n",
    "\n",
    "Para conocer graficamente los intervalos donde se encuentran las raices mencionadas se observara la intersección de las seguientes dos funciones:\n",
    "\n",
    "$$S(b)=V(1-b)^{1/2}$$\n",
    "$$R(b)=m\\pi+2tan^{-1}\\left[\\left(\\frac{b}{1-b}\\right)^{1/2}\\right]$$"
   ]
  },
  {
   "cell_type": "code",
   "execution_count": 2,
   "id": "3a53205c-6a98-4b0e-b080-3e6ebff7b397",
   "metadata": {},
   "outputs": [],
   "source": [
    "def S(b, V):\n",
    "    s_operation = V*np.sqrt((1-b))\n",
    "    return s_operation\n",
    "\n",
    "def R(b,m):\n",
    "    r_operation = m*np.pi+2*np.arctan(np.sqrt(b/(1-b)))\n",
    "    return r_operation"
   ]
  },
  {
   "cell_type": "markdown",
   "id": "b7819efc-94e8-45da-ae0b-f35d712b126b",
   "metadata": {},
   "source": [
    "Teniendo los parametros suministrados:"
   ]
  },
  {
   "cell_type": "code",
   "execution_count": 3,
   "id": "7cd82fee-a767-4966-91cc-ead1ba1041c6",
   "metadata": {},
   "outputs": [],
   "source": [
    "h, ko, nco, ncl = 10 ** -6, (2*np.pi)/(10 ** -6), 1.5, 1\n",
    "v = h*ko*np.sqrt((nco ** 2)-(ncl ** 2))"
   ]
  },
  {
   "cell_type": "markdown",
   "id": "6a36aa91-f964-40db-8944-3b5a7ae079fd",
   "metadata": {},
   "source": [
    "Las intersecciones posibles entre S(b) y R(b) son las que se muestran en la siguiente grafica, es decir, solamente en los modos 0, 1 y 2:"
   ]
  },
  {
   "cell_type": "code",
   "execution_count": 4,
   "id": "8c485f0f-fda2-41d6-bec3-7654ffc4c722",
   "metadata": {},
   "outputs": [
    {
     "data": {
      "image/png": "[encoded data removed]",
      "text/plain": [
       "<Figure size 432x288 with 1 Axes>"
      ]
     },
     "metadata": {
      "needs_background": "light"
     },
     "output_type": "display_data"
    }
   ],
   "source": [
    "x = np.linspace(0,0.999,200)\n",
    "fig, ax = plt.subplots()\n",
    "ax.plot(x,S(x,v), label='S(b)', color='black')\n",
    "ax.plot(x,R(x,0), label='R(b), m=0', color='#FA8072')\n",
    "ax.plot(x,R(x,1), label='R(b), m=1', color='#00FF7F')\n",
    "ax.plot(x,R(x,2), label='R(b), m=2', color='#008B8B')\n",
    "ax.plot(x,R(x,3), label='R(b), m=3', color='#FFD700')\n",
    "ax.set(xlabel='Indice de guía de onda normalizado b', ylabel='S(b) y R(b)',\n",
    "       title='Puntos de corte S(b) y R(b)')\n",
    "ax.grid()\n",
    "plt.legend(loc='upper right')\n",
    "fig.tight_layout()\n",
    "plt.savefig('Puntos de corte S(b) y R(b).png')\n",
    "plt.show()"
   ]
  },
  {
   "cell_type": "markdown",
   "id": "48cd74b3-a9ee-46a6-a169-8a9dc2b64c9b",
   "metadata": {},
   "source": [
    "Aplicando el metodo de Newton para encontrar las raices 0, 1 y 2:"
   ]
  },
  {
   "cell_type": "code",
   "execution_count": 5,
   "id": "e85f11ee-1507-429c-8cc0-276ff51969d2",
   "metadata": {},
   "outputs": [],
   "source": [
    "def tras(b,V,m):\n",
    "    g = V*np.sqrt((1-b)) - (m*np.pi+2*np.arctan(np.sqrt(b/(1-b))))\n",
    "    return g"
   ]
  },
  {
   "cell_type": "code",
   "execution_count": 6,
   "id": "88dea755-1e94-4cb6-b221-ebec0a584fc5",
   "metadata": {},
   "outputs": [],
   "source": [
    "def m_0(b):\n",
    "    g = tras(b,v,0)\n",
    "    return g\n",
    "\n",
    "def m_1(b):\n",
    "    g = tras(b,v,1)\n",
    "    return g\n",
    "\n",
    "def m_2(b):\n",
    "    g = tras(b,v,2)\n",
    "    return g\n",
    "\n",
    "def m_3(b):\n",
    "    g = tras(b,v,3)\n",
    "    return g"
   ]
  },
  {
   "cell_type": "code",
   "execution_count": 7,
   "id": "030e4bde-9a2e-4b46-82ca-ad1a9f7b2b4b",
   "metadata": {},
   "outputs": [
    {
     "name": "stdout",
     "output_type": "stream",
     "text": [
      "Raiz m=0:  0.8799514025795133 ,raiz m=1:  0.5360949519999546 y raiz m=2:  0.0642068778129875\n"
     ]
    }
   ],
   "source": [
    "m_00, m_01, m_02 = Newton(m_0, 0.5), Newton(m_1, 0.5),Newton(m_2, 0.5)\n",
    "print('Raiz m=0: ', m_00, ',raiz m=1: ', m_01, 'y raiz m=2: ', m_02)"
   ]
  },
  {
   "cell_type": "markdown",
   "id": "d1292ca9-fc9c-4c03-b006-fcc3bd4b98bc",
   "metadata": {},
   "source": [
    "Comprobando la inexistencia de la raiz m=3:"
   ]
  },
  {
   "cell_type": "markdown",
   "id": "429decfa-ffef-421f-b851-364c2faeb0a3",
   "metadata": {},
   "source": [
    "Newton(m_3, 0.8)"
   ]
  },
  {
   "cell_type": "markdown",
   "id": "fcfad329-be1a-4999-a1a7-af17c7551c2c",
   "metadata": {},
   "source": [
    "Encontrando el angulo, indice de refracción efectivo y la constante de propagación del modo m:"
   ]
  },
  {
   "cell_type": "code",
   "execution_count": 8,
   "id": "c193e89e-eb73-42bf-8b78-07e2433b714e",
   "metadata": {},
   "outputs": [
    {
     "data": {
      "text/html": [
       "<div>\n",
       "<style scoped>\n",
       "    .dataframe tbody tr th:only-of-type {\n",
       "        vertical-align: middle;\n",
       "    }\n",
       "\n",
       "    .dataframe tbody tr th {\n",
       "        vertical-align: top;\n",
       "    }\n",
       "\n",
       "    .dataframe thead th {\n",
       "        text-align: right;\n",
       "    }\n",
       "</style>\n",
       "<table border=\"1\" class=\"dataframe\">\n",
       "  <thead>\n",
       "    <tr style=\"text-align: right;\">\n",
       "      <th></th>\n",
       "      <th>Modo</th>\n",
       "      <th>Angulo</th>\n",
       "      <th>Indice de refracción efectivo</th>\n",
       "      <th>Constante de propagación</th>\n",
       "    </tr>\n",
       "  </thead>\n",
       "  <tbody>\n",
       "    <tr>\n",
       "      <th>0</th>\n",
       "      <td>0</td>\n",
       "      <td>75.033682</td>\n",
       "      <td>1.449117</td>\n",
       "      <td>9.105069e+06</td>\n",
       "    </tr>\n",
       "    <tr>\n",
       "      <th>1</th>\n",
       "      <td>1</td>\n",
       "      <td>59.491495</td>\n",
       "      <td>1.292331</td>\n",
       "      <td>8.119953e+06</td>\n",
       "    </tr>\n",
       "    <tr>\n",
       "      <th>2</th>\n",
       "      <td>2</td>\n",
       "      <td>43.860369</td>\n",
       "      <td>1.039355</td>\n",
       "      <td>6.530459e+06</td>\n",
       "    </tr>\n",
       "  </tbody>\n",
       "</table>\n",
       "</div>"
      ],
      "text/plain": [
       "   Modo     Angulo  Indice de refracción efectivo  Constante de propagación\n",
       "0     0  75.033682                       1.449117              9.105069e+06\n",
       "1     1  59.491495                       1.292331              8.119953e+06\n",
       "2     2  43.860369                       1.039355              6.530459e+06"
      ]
     },
     "execution_count": 8,
     "metadata": {},
     "output_type": "execute_result"
    }
   ],
   "source": [
    "def param(b):\n",
    "    angulo = np.arcsin(np.sqrt((b*((nco ** 2) - (ncl ** 2)) + (ncl ** 2)) / (nco ** 2)))\n",
    "    indice_refectivo = nco * np.sin(angulo)\n",
    "    c_propagacion = ko * nco * np.sin(angulo)\n",
    "    return angulo, indice_refectivo, c_propagacion\n",
    "\n",
    "ang_00, in_re_00, c_prop_00 = param(m_00)\n",
    "ang_01, in_re_01, c_prop_01 = param(m_01)\n",
    "ang_02, in_re_02, c_prop_02 = param(m_02)\n",
    "\n",
    "df = pd.DataFrame()\n",
    "df['Modo'] = [0 ,1 ,2]\n",
    "df['Angulo'] = [np.degrees(ang_00), np.degrees(ang_01), np.degrees(ang_02)]\n",
    "df['Indice de refracción efectivo'] = [in_re_00, in_re_01, in_re_02]\n",
    "df['Constante de propagación'] = [c_prop_00, c_prop_01, c_prop_02]\n",
    "df"
   ]
  },
  {
   "cell_type": "markdown",
   "id": "6f99545d-40f8-4a72-b206-6face35bc191",
   "metadata": {},
   "source": [
    "### Modos TM:"
   ]
  },
  {
   "cell_type": "markdown",
   "id": "1f3cf8b2-0b6c-44ab-8375-8d12896b1d51",
   "metadata": {},
   "source": [
    "Resolver la ecuación trascendental:"
   ]
  },
  {
   "cell_type": "markdown",
   "id": "e48f1563-ffa2-46ff-9b70-dd9e0115409c",
   "metadata": {},
   "source": [
    "$$hk_{0}n_{co}cos(\\theta_{m})=m\\pi+2tan^{-1}\\left(\\frac{n_{co}^2[n_{co}^{2}sin^{2}(\\theta_{m})-n_{cl}^{2}]^{1/2}}{n_{cl}^{2}n_{co}cos(\\theta_{m})}\\right)$$"
   ]
  },
  {
   "cell_type": "markdown",
   "id": "56a37ccf-f676-4697-9d75-139fb699a9c1",
   "metadata": {},
   "source": [
    "Para resolver esta ecuación trascendental se hallan los ceros de la siguiente función:"
   ]
  },
  {
   "cell_type": "markdown",
   "id": "6e12403f-0bcd-4e92-a88d-36130608b41d",
   "metadata": {},
   "source": [
    "$$hk_{0}n_{co}cos(\\theta_{m})-m\\pi-2tan^{-1}\\left(\\frac{n_{co}^2[n_{co}^{2}sin^{2}(\\theta_{m})-n_{cl}^{2}]^{1/2}}{n_{cl}^{2}n_{co}cos(\\theta_{m})}\\right)=0$$"
   ]
  },
  {
   "cell_type": "markdown",
   "id": "9cc4b732-576d-4ac0-a371-09917c37c093",
   "metadata": {},
   "source": [
    "Para conocer graficamente los intervalos donde se encuentran las raices mencionadas se observara la intersección de las seguientes dos funciones:"
   ]
  },
  {
   "cell_type": "markdown",
   "id": "482b2c5d-5b2c-420d-83de-43133334d793",
   "metadata": {},
   "source": [
    "$$F(\\theta_{m})=hk_{0}n_{co}cos(\\theta_{m})$$"
   ]
  },
  {
   "cell_type": "markdown",
   "id": "8563b389-91d3-4004-9762-288c67acb052",
   "metadata": {},
   "source": [
    "$$G(\\theta_{m})=m\\pi+2tan^{-1}\\left(\\frac{n_{co}^2[n_{co}^{2}sin^{2}(\\theta_{m})-n_{cl}^{2}]^{1/2}}{n_{cl}^{2}n_{co}cos(\\theta_{m})}\\right)$$"
   ]
  },
  {
   "cell_type": "code",
   "execution_count": 9,
   "id": "04bb9df2-7091-4fce-b154-f239ee585591",
   "metadata": {},
   "outputs": [
    {
     "data": {
      "text/plain": [
       "0.9999999999999466"
      ]
     },
     "execution_count": 9,
     "metadata": {},
     "output_type": "execute_result"
    }
   ],
   "source": [
    "np.sin(1.570796)"
   ]
  },
  {
   "cell_type": "code",
   "execution_count": 10,
   "id": "81210f59-8911-48e7-ab61-6802d91c64ee",
   "metadata": {},
   "outputs": [],
   "source": [
    "def F(theta):\n",
    "    f_operation = h*ko*nco*np.cos(theta)\n",
    "    return f_operation"
   ]
  },
  {
   "cell_type": "code",
   "execution_count": 11,
   "id": "83f5d922-4662-4a15-b9cc-b4d3df4ba7c4",
   "metadata": {},
   "outputs": [],
   "source": [
    "def G(theta, m):\n",
    "    g_operation = m*np.pi + 2*np.arctan(((nco**2) * (((nco**2)*((np.sin(theta))**2) - (ncl**2))**(1/2)))  /  ((ncl**2)*nco*np.cos(theta)))\n",
    "    return g_operation"
   ]
  },
  {
   "cell_type": "markdown",
   "id": "214812c9-4799-418d-98c0-866e95b3fd4f",
   "metadata": {},
   "source": [
    "Las intersecciones posibles entre S(b) y R(b) son las que se muestran en la siguiente grafica, es decir, solamente en los modos 0, 1 y 2:"
   ]
  },
  {
   "cell_type": "code",
   "execution_count": 12,
   "id": "036a2e3d-e584-4994-9e9d-b6a10c055cdd",
   "metadata": {},
   "outputs": [
    {
     "data": {
      "image/png": "[encoded data removed]",
      "text/plain": [
       "<Figure size 432x288 with 1 Axes>"
      ]
     },
     "metadata": {
      "needs_background": "light"
     },
     "output_type": "display_data"
    }
   ],
   "source": [
    "xx = np.linspace(0.73,np.pi/2+0.73,1000)\n",
    "fig, ax = plt.subplots()\n",
    "ax.plot(xx,F(xx), label= r'F($\\theta$)', color='black')\n",
    "ax.plot(xx,G(xx,0), label= r'G($\\theta$), m=0', color='#FA8072')\n",
    "ax.plot(xx,G(xx,1), label= r'G($\\theta$), m=1', color='#00FF7F')\n",
    "ax.plot(xx,G(xx,2), label= r'G($\\theta$), m=2', color='#008B8B')\n",
    "ax.plot(xx,G(xx,3), label= r'G($\\theta$), m=3', color='#FFD700')\n",
    "\n",
    "ax.set(xlabel=r'Angulo de propagación $\\theta$ del modo m', ylabel=r'F($\\theta$) y G($\\theta$)',\n",
    "       title=r'Puntos de corte F($\\theta$) y G($\\theta$)')\n",
    "ax.grid()\n",
    "plt.legend(loc='upper right')\n",
    "fig.tight_layout()\n",
    "plt.savefig(r'Puntos de corte F($\\theta$) y G($\\theta$)')\n",
    "plt.show()"
   ]
  },
  {
   "cell_type": "markdown",
   "id": "32bb5e0b-e955-4391-841a-765430361171",
   "metadata": {},
   "source": [
    "Como se puede observar, solo existen propagación en los modos 0, 1 y 2. Parece, según la grafica, que para el primer modo existen 3 soluciones, para el segundo 2 y para el tercero 1; sin embargo, la función en las lineas verticales no es continua, la linea trazada aparece por la unión de los dos valores que toman las graficas en $\\pi/2$."
   ]
  },
  {
   "cell_type": "markdown",
   "id": "0d63ed1b-56ab-4631-960d-4c464f1cbfec",
   "metadata": {},
   "source": [
    "Ahora encontrando las dos soluciones del modo fundamental:"
   ]
  },
  {
   "cell_type": "code",
   "execution_count": 13,
   "id": "dfa2f0f3-1e67-4732-a238-f195c48a59cf",
   "metadata": {},
   "outputs": [],
   "source": [
    "def TM_zeros(theta, m):\n",
    "    TM_zeros_operation = F(theta) - G(theta,m)\n",
    "    return TM_zeros_operation"
   ]
  },
  {
   "cell_type": "code",
   "execution_count": 14,
   "id": "726c9cd6-f853-4a4f-9958-3c1bcda35b30",
   "metadata": {},
   "outputs": [],
   "source": [
    "def m_0_TM(theta):\n",
    "    r = TM_zeros(theta,0)\n",
    "    return r"
   ]
  },
  {
   "cell_type": "code",
   "execution_count": 15,
   "id": "112f9f69-3737-4af6-abc6-08336d5e6a76",
   "metadata": {},
   "outputs": [
    {
     "data": {
      "text/plain": [
       "(1.8685999239388174, 1.2729927296509758)"
      ]
     },
     "execution_count": 15,
     "metadata": {},
     "output_type": "execute_result"
    }
   ],
   "source": [
    "m_TM_00 = Newton(m_0_TM, 1.8), Newton(m_0_TM, 1.2)\n",
    "m_TM_00"
   ]
  },
  {
   "cell_type": "markdown",
   "id": "4cf36cfc-a943-4c2f-beaa-09ba2f80cc1a",
   "metadata": {},
   "source": [
    "Procediendo de la misma forma para el modo de orden 1:"
   ]
  },
  {
   "cell_type": "code",
   "execution_count": 16,
   "id": "4a055ac8-108e-4715-af94-2319eef48030",
   "metadata": {},
   "outputs": [],
   "source": [
    "def m_1_TM(theta):\n",
    "    r = TM_zeros(theta,1)\n",
    "    return r"
   ]
  },
  {
   "cell_type": "code",
   "execution_count": 17,
   "id": "9c4ed9aa-1b61-4c80-93fc-7c154289c6ec",
   "metadata": {},
   "outputs": [
    {
     "data": {
      "text/plain": [
       "0.9699283387496284"
      ]
     },
     "execution_count": 17,
     "metadata": {},
     "output_type": "execute_result"
    }
   ],
   "source": [
    "m_TM_01 = Newton(m_1_TM, 1.8)\n",
    "m_TM_01"
   ]
  },
  {
   "cell_type": "markdown",
   "id": "c3025996-f965-4256-91fd-2be272c67fb2",
   "metadata": {},
   "source": [
    "Por último para m=2:"
   ]
  },
  {
   "cell_type": "code",
   "execution_count": 18,
   "id": "86f3b88c-7db6-42ea-9fbe-4a7707ea09c2",
   "metadata": {},
   "outputs": [],
   "source": [
    "def m_2_TM(theta):\n",
    "    r = TM_zeros(theta,2)\n",
    "    return r"
   ]
  },
  {
   "cell_type": "code",
   "execution_count": 19,
   "id": "08e08e06-1ce6-4d73-ba4b-69c800fbe8bb",
   "metadata": {},
   "outputs": [
    {
     "data": {
      "text/plain": [
       "0.7424247755766693"
      ]
     },
     "execution_count": 19,
     "metadata": {},
     "output_type": "execute_result"
    }
   ],
   "source": [
    "m_TM_02 = Newton(m_2_TM, 0.73)\n",
    "m_TM_02"
   ]
  },
  {
   "cell_type": "markdown",
   "id": "47a78154-9714-4317-bd1b-a4a424ceb20d",
   "metadata": {},
   "source": [
    "Reportando los angulos en grados en conjunto con el indice de refracción efectivo y la constante propagación:"
   ]
  },
  {
   "cell_type": "code",
   "execution_count": 20,
   "id": "d37895e0-f2eb-4e87-8fb3-539b40ef35e3",
   "metadata": {},
   "outputs": [],
   "source": [
    "def param_TM(theta):\n",
    "    angulo = np.degrees(theta)\n",
    "    indice_refectivo = nco * np.sin(theta)\n",
    "    c_propagacion = ko * nco * np.sin(theta)\n",
    "    return angulo, indice_refectivo, c_propagacion"
   ]
  },
  {
   "cell_type": "code",
   "execution_count": 21,
   "id": "0810bbe0-54f2-47e3-98cf-7f041fdea8b0",
   "metadata": {},
   "outputs": [
    {
     "data": {
      "text/html": [
       "<div>\n",
       "<style scoped>\n",
       "    .dataframe tbody tr th:only-of-type {\n",
       "        vertical-align: middle;\n",
       "    }\n",
       "\n",
       "    .dataframe tbody tr th {\n",
       "        vertical-align: top;\n",
       "    }\n",
       "\n",
       "    .dataframe thead th {\n",
       "        text-align: right;\n",
       "    }\n",
       "</style>\n",
       "<table border=\"1\" class=\"dataframe\">\n",
       "  <thead>\n",
       "    <tr style=\"text-align: right;\">\n",
       "      <th></th>\n",
       "      <th>Modo</th>\n",
       "      <th>Angulo</th>\n",
       "      <th>Indice de refracción efectivo</th>\n",
       "      <th>Constante de propagación</th>\n",
       "    </tr>\n",
       "  </thead>\n",
       "  <tbody>\n",
       "    <tr>\n",
       "      <th>0</th>\n",
       "      <td>0</td>\n",
       "      <td>72.937111</td>\n",
       "      <td>1.433975</td>\n",
       "      <td>9.009930e+06</td>\n",
       "    </tr>\n",
       "    <tr>\n",
       "      <th>1</th>\n",
       "      <td>1</td>\n",
       "      <td>55.572800</td>\n",
       "      <td>1.237268</td>\n",
       "      <td>7.773983e+06</td>\n",
       "    </tr>\n",
       "    <tr>\n",
       "      <th>2</th>\n",
       "      <td>2</td>\n",
       "      <td>42.537806</td>\n",
       "      <td>1.014115</td>\n",
       "      <td>6.371871e+06</td>\n",
       "    </tr>\n",
       "  </tbody>\n",
       "</table>\n",
       "</div>"
      ],
      "text/plain": [
       "   Modo     Angulo  Indice de refracción efectivo  Constante de propagación\n",
       "0     0  72.937111                       1.433975              9.009930e+06\n",
       "1     1  55.572800                       1.237268              7.773983e+06\n",
       "2     2  42.537806                       1.014115              6.371871e+06"
      ]
     },
     "execution_count": 21,
     "metadata": {},
     "output_type": "execute_result"
    }
   ],
   "source": [
    "param_TM(m_TM_00[1]), param_TM(m_TM_01), param_TM(m_TM_02)\n",
    "\n",
    "ang_00_TM, in_re_00_TM, c_prop_00_TM = param_TM(m_TM_00[1])\n",
    "ang_01_TM, in_re_01_TM, c_prop_01_TM = param_TM(m_TM_01)\n",
    "ang_02_TM, in_re_02_TM, c_prop_02_TM = param_TM(m_TM_02)\n",
    "\n",
    "df_TM = pd.DataFrame()\n",
    "df_TM['Modo'] = [0 ,1 ,2]\n",
    "df_TM['Angulo'] = [ang_00_TM, ang_01_TM,ang_02_TM]\n",
    "df_TM['Indice de refracción efectivo'] = [in_re_00_TM, in_re_01_TM, in_re_02_TM]\n",
    "df_TM['Constante de propagación'] = [c_prop_00_TM, c_prop_01_TM, c_prop_02_TM]\n",
    "df_TM"
   ]
  },
  {
   "cell_type": "markdown",
   "id": "8931572d-7f2a-48e8-a84e-5f7c38f31537",
   "metadata": {},
   "source": [
    "## Metodo Ondulatorio"
   ]
  },
  {
   "cell_type": "markdown",
   "id": "fa469d33-1b5b-4fca-b09e-f577de48ec9c",
   "metadata": {},
   "source": [
    "### Modos TE"
   ]
  },
  {
   "cell_type": "markdown",
   "id": "01855bce-2a83-4576-b721-cd24bb4a93d4",
   "metadata": {},
   "source": [
    "Para encontrar el angulo, indice de refracción efectivo y constante propagación de modos TE a través del metodo ondulatorio, se usa la siguiente ecuación trascendental:"
   ]
  },
  {
   "cell_type": "markdown",
   "id": "c07e3863-21f4-4cc9-a6e2-3b3ba6a129f8",
   "metadata": {},
   "source": [
    "$$tan(k_{x}h)=\\frac{2\\alpha_{x}}{k_{x}\\left(1-\\frac{\\alpha_{x}^{2}}{k_{x}^{2}}\\right)}$$"
   ]
  },
  {
   "cell_type": "markdown",
   "id": "b8782940-ab44-4651-97ea-10338e3db9d6",
   "metadata": {},
   "source": [
    "Tal que:"
   ]
  },
  {
   "cell_type": "markdown",
   "id": "41fc692b-6b18-4752-9ad1-e8f3791f737c",
   "metadata": {},
   "source": [
    "$$\\alpha_{x}=(\\beta^{2}-k_{0}^{2}n_{cl}^{2})^{1/2}$$\n",
    "$$k_{x}=(k_{0}^{2}n_{co}^{2}-\\beta^{2})^{1/2}$$"
   ]
  },
  {
   "cell_type": "markdown",
   "id": "cb14e993-a25a-44fb-9a6e-1ec32b09bab5",
   "metadata": {},
   "source": [
    "Entonces la ecuación trascendental quedaría con la siguiente estructura:"
   ]
  },
  {
   "cell_type": "markdown",
   "id": "c48b116c-b5cd-4b73-b45c-e93e28dfcb7d",
   "metadata": {},
   "source": [
    "$$tan[(k_{0}^{2}n_{co}^{2}-\\beta^{2})^{1/2}h]=\\frac{2(\\beta^{2}-k_{0}^{2}n_{cl}^{2})^{1/2}}{(k_{0}^{2}n_{co}^{2}-\\beta^{2})^{1/2}\\left(1-\\frac{\\beta^{2}-k_{0}^{2}n_{cl}^{2}}{k_{0}^{2}n_{co}^{2}-\\beta^{2}}\\right)}$$"
   ]
  },
  {
   "cell_type": "markdown",
   "id": "3c7f0acf-2101-430f-8275-ab16d364f674",
   "metadata": {},
   "source": [
    "Por tanto, la ecuación a la que hay que encontrarle sus raices es:"
   ]
  },
  {
   "cell_type": "markdown",
   "id": "3e335ed6-c03d-4995-a387-6d43e2846108",
   "metadata": {},
   "source": [
    "$$tan[(k_{0}^{2}n_{co}^{2}-\\beta^{2})^{1/2}h]-\\frac{2(\\beta^{2}-k_{0}^{2}n_{cl}^{2})^{1/2}}{(k_{0}^{2}n_{co}^{2}-\\beta^{2})^{1/2}\\left(1-\\frac{\\beta^{2}-k_{0}^{2}n_{cl}^{2}}{k_{0}^{2}n_{co}^{2}-\\beta^{2}}\\right)}=0$$"
   ]
  },
  {
   "cell_type": "markdown",
   "id": "b059bb32-84ec-43ba-844b-fb817e970ff7",
   "metadata": {},
   "source": [
    "Graficando la función racional y tangente para observar su intersección y, gracias a esto, suministrar el punto cercano al cero para que el metodo numerico de con este:"
   ]
  },
  {
   "cell_type": "markdown",
   "id": "3cb648b7-47d8-4626-8d82-494421fc96b8",
   "metadata": {},
   "source": [
    "$$J(\\beta)=tan[(k_{0}^{2}n_{co}^{2}-\\beta^{2})^{1/2}h]$$"
   ]
  },
  {
   "cell_type": "markdown",
   "id": "2df509bb-104c-4176-80b0-a3208b245da2",
   "metadata": {},
   "source": [
    "$$L(\\beta)=\\frac{2(\\beta^{2}-k_{0}^{2}n_{cl}^{2})^{1/2}}{(k_{0}^{2}n_{co}^{2}-\\beta^{2})^{1/2}\\left(1-\\frac{\\beta^{2}-k_{0}^{2}n_{cl}^{2}}{k_{0}^{2}n_{co}^{2}-\\beta^{2}}\\right)}$$"
   ]
  },
  {
   "cell_type": "code",
   "execution_count": 22,
   "id": "6d2977b3-d771-4cda-b6b4-15e0f051d298",
   "metadata": {},
   "outputs": [],
   "source": [
    "def J(beta):\n",
    "    j_operation = np.tan(h *   (((ko**2)*(nco**2)-((beta * (10 ** 6))**2)) ** (1/2)))\n",
    "    return j_operation"
   ]
  },
  {
   "cell_type": "code",
   "execution_count": 23,
   "id": "5bc8fff8-ee3a-46de-9333-d829815496ef",
   "metadata": {},
   "outputs": [],
   "source": [
    "def L(beta):\n",
    "    ax = np.sqrt(((beta * (10 ** 6))**2) - (ko**2)*(ncl**2))\n",
    "    kx = np.sqrt(-((beta * (10 ** 6))**2) + (ko**2)*(nco**2))\n",
    "    l_operation = (2*ax)/(kx * (1 - (ax**2)/(kx**2)))\n",
    "    return l_operation"
   ]
  },
  {
   "cell_type": "code",
   "execution_count": 24,
   "id": "82d97a3c-7239-4082-b420-8592a3f995e4",
   "metadata": {},
   "outputs": [
    {
     "data": {
      "text/plain": [
       "(211582395642.5625, 2336439609804.2344)"
      ]
     },
     "execution_count": 24,
     "metadata": {},
     "output_type": "execute_result"
    }
   ],
   "source": [
    "((6.3 * (10 ** 6))**2)-(ko**2)*(ncl**2), (ko**2)*(nco**2)-((9.3 * (10 ** 6))**2)"
   ]
  },
  {
   "cell_type": "code",
   "execution_count": 25,
   "id": "4eae7b94-68c6-4eb0-98f0-a14575840da3",
   "metadata": {},
   "outputs": [
    {
     "data": {
      "image/png": "[encoded data removed]",
      "text/plain": [
       "<Figure size 432x288 with 1 Axes>"
      ]
     },
     "metadata": {
      "needs_background": "light"
     },
     "output_type": "display_data"
    }
   ],
   "source": [
    "xxx = np.linspace(6.3,9.3,100)\n",
    "fig, ax = plt.subplots()\n",
    "ax.plot(xxx,J(xxx), label=r'J($\\beta$)', color='black')\n",
    "ax.plot(xxx,L(xxx), label=r'L($\\beta$)', color='red')\n",
    "ax.set(xlabel=r'Constante de propagación $\\beta$', ylabel='S(b) y R(b)',\n",
    "       title=r'Puntos de corte J($\\beta$) y L($\\beta$)')\n",
    "ax.grid()\n",
    "plt.legend(loc='upper right')\n",
    "fig.tight_layout()\n",
    "plt.savefig('Puntos de corte J(beta) y L(beta).png')\n",
    "plt.show()"
   ]
  },
  {
   "cell_type": "markdown",
   "id": "5c57bcf1-2b0f-4222-88d9-e8e28d926e03",
   "metadata": {},
   "source": [
    "Ahora, aplicando el metodo de Newton para encontrar las raices:"
   ]
  },
  {
   "cell_type": "code",
   "execution_count": 26,
   "id": "80ab9436-d6d7-4960-88b6-ccb9d3e86eaf",
   "metadata": {},
   "outputs": [],
   "source": [
    "def JL(beta):\n",
    "    jl_operation = (J(beta) - L(beta))\n",
    "    return jl_operation"
   ]
  },
  {
   "cell_type": "code",
   "execution_count": 27,
   "id": "e1a7705a-e9e7-43da-a9c0-ee0f37b4e4a6",
   "metadata": {},
   "outputs": [
    {
     "data": {
      "text/plain": [
       "(6.530459403719585, 8.119953392271565, 9.10506885106174)"
      ]
     },
     "execution_count": 27,
     "metadata": {},
     "output_type": "execute_result"
    }
   ],
   "source": [
    "Newton(JL,6.4), Newton(JL,8.1), Newton(JL,9)"
   ]
  },
  {
   "cell_type": "markdown",
   "id": "e1b2bae0-a54d-43ba-b44b-d3849cf78c48",
   "metadata": {},
   "source": [
    "Así la constante propagación, el indice de refracción efectivo y el angulo en el que se propaga cada modo serían:"
   ]
  },
  {
   "cell_type": "code",
   "execution_count": 28,
   "id": "7dd460ed-8518-457e-85af-eaf511869d93",
   "metadata": {},
   "outputs": [],
   "source": [
    "def param_TE_wave(prop):\n",
    "    angulo = np.degrees(np.arcsin((prop * (10**6))/(ko*nco)))\n",
    "    ang = np.arcsin((prop * (10**6))/(ko*nco))\n",
    "    in_re = nco*np.sin(ang)\n",
    "    return angulo, in_re"
   ]
  },
  {
   "cell_type": "code",
   "execution_count": 29,
   "id": "28780f10-3418-4dec-b2df-15d3ea94bc76",
   "metadata": {},
   "outputs": [
    {
     "data": {
      "text/html": [
       "<div>\n",
       "<style scoped>\n",
       "    .dataframe tbody tr th:only-of-type {\n",
       "        vertical-align: middle;\n",
       "    }\n",
       "\n",
       "    .dataframe tbody tr th {\n",
       "        vertical-align: top;\n",
       "    }\n",
       "\n",
       "    .dataframe thead th {\n",
       "        text-align: right;\n",
       "    }\n",
       "</style>\n",
       "<table border=\"1\" class=\"dataframe\">\n",
       "  <thead>\n",
       "    <tr style=\"text-align: right;\">\n",
       "      <th></th>\n",
       "      <th>Modo</th>\n",
       "      <th>Angulo</th>\n",
       "      <th>Indice de refracción efectivo</th>\n",
       "      <th>Constante de propagación x 10^6</th>\n",
       "    </tr>\n",
       "  </thead>\n",
       "  <tbody>\n",
       "    <tr>\n",
       "      <th>0</th>\n",
       "      <td>0</td>\n",
       "      <td>75.033682</td>\n",
       "      <td>1.449117</td>\n",
       "      <td>9.105069</td>\n",
       "    </tr>\n",
       "    <tr>\n",
       "      <th>1</th>\n",
       "      <td>1</td>\n",
       "      <td>59.491495</td>\n",
       "      <td>1.292331</td>\n",
       "      <td>8.119953</td>\n",
       "    </tr>\n",
       "    <tr>\n",
       "      <th>2</th>\n",
       "      <td>2</td>\n",
       "      <td>43.860369</td>\n",
       "      <td>1.039355</td>\n",
       "      <td>6.530459</td>\n",
       "    </tr>\n",
       "  </tbody>\n",
       "</table>\n",
       "</div>"
      ],
      "text/plain": [
       "   Modo     Angulo  Indice de refracción efectivo  \\\n",
       "0     0  75.033682                       1.449117   \n",
       "1     1  59.491495                       1.292331   \n",
       "2     2  43.860369                       1.039355   \n",
       "\n",
       "   Constante de propagación x 10^6  \n",
       "0                         9.105069  \n",
       "1                         8.119953  \n",
       "2                         6.530459  "
      ]
     },
     "execution_count": 29,
     "metadata": {},
     "output_type": "execute_result"
    }
   ],
   "source": [
    "ang_00_TE_wave, in_re_00_TE_wave = param_TE_wave(Newton(JL,9))\n",
    "ang_01_TE_wave, in_re_01_TE_wave = param_TE_wave(Newton(JL,8.1))\n",
    "ang_02_TE_wave, in_re_02_TE_wave = param_TE_wave(Newton(JL,6.4))\n",
    "\n",
    "df_TE_wave = pd.DataFrame()\n",
    "df_TE_wave['Modo'] = [0 ,1 ,2]\n",
    "df_TE_wave['Angulo'] = [ang_00_TE_wave, ang_01_TE_wave,ang_02_TE_wave]\n",
    "df_TE_wave['Indice de refracción efectivo'] = [in_re_00_TE_wave, in_re_01_TE_wave, in_re_02_TE_wave]\n",
    "df_TE_wave['Constante de propagación x 10^6'] = [Newton(JL,9), Newton(JL,8.1), Newton(JL,6.4)]\n",
    "df_TE_wave"
   ]
  },
  {
   "cell_type": "markdown",
   "id": "bcf40114-1414-4c44-a46a-ceb6bccb1855",
   "metadata": {},
   "source": [
    "### Modos TM"
   ]
  },
  {
   "cell_type": "markdown",
   "id": "9c82568e-3d1a-40b4-805f-8d034e2f7aa3",
   "metadata": {},
   "source": [
    "Los modos TM se pueden encontrar con el metodo ondulatorio a través de la siguiente ecuación:"
   ]
  },
  {
   "cell_type": "markdown",
   "id": "ffa0aace-445b-4d66-8a2c-572b47ba3115",
   "metadata": {},
   "source": [
    "$$tan(k_{x}h)=\\frac{2\\alpha_{x}\\frac{n_{co}^{2}}{n_{cl}^{2}}}{k_{x}\\left(1-\\frac{n_{co}^{4}}{n_{cl}^{4}}\\frac{\\alpha_{x}^{2}}{k_{x}^{2}}\\right)}$$"
   ]
  },
  {
   "cell_type": "markdown",
   "id": "0b06b78b-0538-4429-9dcf-f65a39ac0331",
   "metadata": {},
   "source": [
    "Las raices se encontrarían de la siguiente función:"
   ]
  },
  {
   "cell_type": "markdown",
   "id": "6a33e819-263e-4d90-bdf2-473afad28279",
   "metadata": {},
   "source": [
    "$$tan(k_{x}h)-\\frac{2\\alpha_{x}\\frac{n_{co}^{2}}{n_{cl}^{2}}}{k_{x}\\left(1-\\frac{n_{co}^{4}}{n_{cl}^{4}}\\frac{\\alpha_{x}^{2}}{k_{x}^{2}}\\right)}=0$$"
   ]
  },
  {
   "cell_type": "markdown",
   "id": "b342f672-2fd3-458f-add3-a637cda9e485",
   "metadata": {},
   "source": [
    "Graficando la función racional y tangente para observar su intersección y, gracias a esto, suministrar el punto cercano al cero para que el metodo numerico de con este:"
   ]
  },
  {
   "cell_type": "markdown",
   "id": "9c52a214-e35e-4d59-91c4-3def7e1a1e9c",
   "metadata": {},
   "source": [
    "$$Q(\\beta)=tan(k_{x}h)$$"
   ]
  },
  {
   "cell_type": "markdown",
   "id": "4c40198d-be1d-4da1-8bd7-3764addac659",
   "metadata": {},
   "source": [
    "$$W(\\beta)=\\frac{2\\alpha_{x}\\frac{n_{co}^{2}}{n_{cl}^{2}}}{k_{x}\\left(1-\\frac{n_{co}^{4}}{n_{cl}^{4}}\\frac{\\alpha_{x}^{2}}{k_{x}^{2}}\\right)}$$"
   ]
  },
  {
   "cell_type": "code",
   "execution_count": 30,
   "id": "dd755b7d-d3be-49cc-a386-a4e4092049ea",
   "metadata": {},
   "outputs": [],
   "source": [
    "def Q(beta):\n",
    "    ax = np.sqrt(((beta * (10 ** 6))**2) - (ko**2)*(ncl**2))\n",
    "    kx = np.sqrt(-((beta * (10 ** 6))**2) + (ko**2)*(nco**2))\n",
    "    q_operation = np.tan(kx*h)\n",
    "    return q_operation"
   ]
  },
  {
   "cell_type": "code",
   "execution_count": 31,
   "id": "7a8660b5-c60d-4aff-8543-6b37c9b4d966",
   "metadata": {},
   "outputs": [],
   "source": [
    "def W(beta):\n",
    "    ax = np.sqrt(((beta * (10 ** 6))**2) - (ko**2)*(ncl**2))\n",
    "    kx = np.sqrt(-((beta * (10 ** 6))**2) + (ko**2)*(nco**2))\n",
    "    w_operation = (2*ax*((nco**2) / (ncl**2))) / (kx*(1 - ((nco**4) / (ncl**4))*((ax**2) / (kx**2))))\n",
    "    return w_operation"
   ]
  },
  {
   "cell_type": "code",
   "execution_count": 32,
   "id": "813535a0-8dbf-4ec5-9222-74cdb900b95a",
   "metadata": {},
   "outputs": [
    {
     "data": {
      "image/png": "[encoded data removed]",
      "text/plain": [
       "<Figure size 432x288 with 1 Axes>"
      ]
     },
     "metadata": {
      "needs_background": "light"
     },
     "output_type": "display_data"
    }
   ],
   "source": [
    "xxxx = np.linspace(6.3,9.3,100)\n",
    "fig, ax = plt.subplots()\n",
    "ax.plot(xxxx,Q(xxxx), label=r'Q($\\beta$)', color='black')\n",
    "ax.plot(xxxx,W(xxxx), label=r'W($\\beta$)', color='red')\n",
    "ax.set(xlabel=r'Constante de propagación $\\beta$', ylabel='Q(b) y W(b)',\n",
    "       title=r'Puntos de corte Q($\\beta$) y W($\\beta$)')\n",
    "ax.grid()\n",
    "plt.legend(loc='lower right')\n",
    "fig.tight_layout()\n",
    "plt.savefig('Puntos de corte Q(beta) y W(beta).png')\n",
    "plt.show()"
   ]
  },
  {
   "cell_type": "markdown",
   "id": "448cc638-9043-49dd-b51c-090a0c1c5361",
   "metadata": {},
   "source": [
    "Ahora, aplicando el metodo de Newton para encontrar las raices:"
   ]
  },
  {
   "cell_type": "code",
   "execution_count": 33,
   "id": "ca51217e-a9fb-4a9a-8ead-d58f6300bc33",
   "metadata": {},
   "outputs": [],
   "source": [
    "def QW(beta):\n",
    "    qw_operation = (Q(beta) - W(beta))\n",
    "    return qw_operation"
   ]
  },
  {
   "cell_type": "code",
   "execution_count": 34,
   "id": "f7a4fe51-c382-44ea-b157-fd9591c67919",
   "metadata": {},
   "outputs": [
    {
     "data": {
      "text/plain": [
       "(6.371871350804092, 7.773982872837435, 9.009930013154761)"
      ]
     },
     "execution_count": 34,
     "metadata": {},
     "output_type": "execute_result"
    }
   ],
   "source": [
    "Newton(QW,6.4), Newton(QW,8.1), Newton(QW,9)"
   ]
  },
  {
   "cell_type": "markdown",
   "id": "52eb8779-d3b1-4a13-a2dd-4e3f52578a80",
   "metadata": {},
   "source": [
    "Así la constante propagación, el indice de refracción efectivo y el angulo en el que se propaga cada modo serían:"
   ]
  },
  {
   "cell_type": "code",
   "execution_count": 35,
   "id": "7218a585-d69d-40ed-a090-261d3304cbb6",
   "metadata": {},
   "outputs": [],
   "source": [
    "def param_TM_wave(prop):\n",
    "    angulo = np.degrees(np.arcsin((prop * (10**6))/(ko*nco)))\n",
    "    ang = np.arcsin((prop * (10**6))/(ko*nco))\n",
    "    in_re = nco*np.sin(ang)\n",
    "    return angulo, in_re"
   ]
  },
  {
   "cell_type": "code",
   "execution_count": 36,
   "id": "759678f2-f0bf-4c00-a7da-d6cb65382a9b",
   "metadata": {},
   "outputs": [
    {
     "data": {
      "text/html": [
       "<div>\n",
       "<style scoped>\n",
       "    .dataframe tbody tr th:only-of-type {\n",
       "        vertical-align: middle;\n",
       "    }\n",
       "\n",
       "    .dataframe tbody tr th {\n",
       "        vertical-align: top;\n",
       "    }\n",
       "\n",
       "    .dataframe thead th {\n",
       "        text-align: right;\n",
       "    }\n",
       "</style>\n",
       "<table border=\"1\" class=\"dataframe\">\n",
       "  <thead>\n",
       "    <tr style=\"text-align: right;\">\n",
       "      <th></th>\n",
       "      <th>Modo</th>\n",
       "      <th>Angulo</th>\n",
       "      <th>Indice de refracción efectivo</th>\n",
       "      <th>Constante de propagación x 10^6</th>\n",
       "    </tr>\n",
       "  </thead>\n",
       "  <tbody>\n",
       "    <tr>\n",
       "      <th>0</th>\n",
       "      <td>0</td>\n",
       "      <td>72.937111</td>\n",
       "      <td>1.433975</td>\n",
       "      <td>9.009930</td>\n",
       "    </tr>\n",
       "    <tr>\n",
       "      <th>1</th>\n",
       "      <td>1</td>\n",
       "      <td>55.572800</td>\n",
       "      <td>1.237268</td>\n",
       "      <td>7.773983</td>\n",
       "    </tr>\n",
       "    <tr>\n",
       "      <th>2</th>\n",
       "      <td>2</td>\n",
       "      <td>42.537806</td>\n",
       "      <td>1.014115</td>\n",
       "      <td>6.371871</td>\n",
       "    </tr>\n",
       "  </tbody>\n",
       "</table>\n",
       "</div>"
      ],
      "text/plain": [
       "   Modo     Angulo  Indice de refracción efectivo  \\\n",
       "0     0  72.937111                       1.433975   \n",
       "1     1  55.572800                       1.237268   \n",
       "2     2  42.537806                       1.014115   \n",
       "\n",
       "   Constante de propagación x 10^6  \n",
       "0                         9.009930  \n",
       "1                         7.773983  \n",
       "2                         6.371871  "
      ]
     },
     "execution_count": 36,
     "metadata": {},
     "output_type": "execute_result"
    }
   ],
   "source": [
    "ang_00_TM_wave, in_re_00_TM_wave = param_TM_wave(Newton(QW,9))\n",
    "ang_01_TM_wave, in_re_01_TM_wave = param_TM_wave(Newton(QW,8.1))\n",
    "ang_02_TM_wave, in_re_02_TM_wave = param_TM_wave(Newton(QW,6.4))\n",
    "\n",
    "df_TM_wave = pd.DataFrame()\n",
    "df_TM_wave['Modo'] = [0 ,1 ,2]\n",
    "df_TM_wave['Angulo'] = [ang_00_TM_wave, ang_01_TM_wave,ang_02_TM_wave]\n",
    "df_TM_wave['Indice de refracción efectivo'] = [in_re_00_TM_wave, in_re_01_TM_wave, in_re_02_TM_wave]\n",
    "df_TM_wave['Constante de propagación x 10^6'] = [Newton(QW,9), Newton(QW,8.1), Newton(QW,6.4)]\n",
    "df_TM_wave"
   ]
  },
  {
   "cell_type": "markdown",
   "id": "2f204e12-0443-4c46-b660-67c43757d83a",
   "metadata": {},
   "source": [
    "## Campo electrico y magnetico para los modos TE y TM"
   ]
  },
  {
   "cell_type": "markdown",
   "id": "3c2cc9fc-0ecc-40a5-86b4-e3bd3a34a140",
   "metadata": {},
   "source": [
    "### Campo electrico"
   ]
  },
  {
   "cell_type": "code",
   "execution_count": 37,
   "id": "baf9ed02-c76c-42da-a458-3d0ca2ca54de",
   "metadata": {},
   "outputs": [],
   "source": [
    "def Field_TE_01(beta, x):\n",
    "    ax = np.sqrt(((beta * (10 ** 6))**2) - (ko**2)*(ncl**2))\n",
    "    kx = np.sqrt(-((beta * (10 ** 6))**2) + (ko**2)*(nco**2))\n",
    "    fte = (np.cos(kx*h)+(ax/kx)*np.sin(kx*h))*np.exp(-ax*(x-h))\n",
    "    return fte\n",
    "\n",
    "def Field_TE_02(beta, x):\n",
    "    ax = np.sqrt(((beta * (10 ** 6))**2) - (ko**2)*(ncl**2))\n",
    "    kx = np.sqrt(-((beta * (10 ** 6))**2) + (ko**2)*(nco**2))\n",
    "    fte = np.cos(kx*x)+(ax/kx)*np.sin(kx*x)\n",
    "    return fte\n",
    "\n",
    "def Field_TE_03(beta, x):\n",
    "    ax = np.sqrt(((beta * (10 ** 6))**2) - (ko**2)*(ncl**2))\n",
    "    kx = np.sqrt(-((beta * (10 ** 6))**2) + (ko**2)*(nco**2))\n",
    "    fte = np.exp(ax*x)\n",
    "    return fte"
   ]
  },
  {
   "cell_type": "markdown",
   "id": "827997b3-9ffe-4894-9ac5-9e63f1e2bc7e",
   "metadata": {},
   "source": [
    "Para el modo fundamental:"
   ]
  },
  {
   "cell_type": "code",
   "execution_count": 45,
   "id": "e5518cd3-336d-4c01-aa86-89b9326b3854",
   "metadata": {},
   "outputs": [
    {
     "data": {
      "image/png": "[encoded data removed]",
      "text/plain": [
       "<Figure size 432x288 with 1 Axes>"
      ]
     },
     "metadata": {
      "needs_background": "light"
     },
     "output_type": "display_data"
    }
   ],
   "source": [
    "qq = np.linspace(-1*(10 ** -6),0*(10 ** -6),100)\n",
    "ww = np.linspace(0*(10 ** -6),1*(10 ** -6),100)\n",
    "ee = np.linspace(1*(10 ** -6),2*(10 ** -6),100)\n",
    "fig, ax = plt.subplots()\n",
    "ax.plot(qq,Field_TE_03(Newton(JL,9), qq), label= 'x<0', color='black')\n",
    "ax.plot(ww,Field_TE_02(Newton(JL,9), ww), label= r'$0\\leq{x}\\leq{h}$', color='#FA8072')\n",
    "ax.plot(ee,Field_TE_01(Newton(JL,9), ee), label= 'x>0', color='#00FF7F')\n",
    "\n",
    "ax.set(xlabel='Longitud transversal de la guía de onda', ylabel='',\n",
    "       title='Campo electrrico para el modo fundamental de propagación m=0')\n",
    "ax.grid()\n",
    "plt.legend(loc='upper right')\n",
    "fig.tight_layout()\n",
    "plt.savefig('Campo electrrico para el modo fundamental de propagación m=0.png')\n",
    "plt.show()"
   ]
  },
  {
   "cell_type": "markdown",
   "id": "51b4775e-18df-4947-a4e2-1b2bd9f3b0cc",
   "metadata": {},
   "source": [
    "Para el primer modo:"
   ]
  },
  {
   "cell_type": "code",
   "execution_count": 46,
   "id": "23611c3b-529d-41ff-a425-9b381528a9fc",
   "metadata": {},
   "outputs": [
    {
     "data": {
      "image/png": "[encoded data removed]",
      "text/plain": [
       "<Figure size 432x288 with 1 Axes>"
      ]
     },
     "metadata": {
      "needs_background": "light"
     },
     "output_type": "display_data"
    }
   ],
   "source": [
    "rr = np.linspace(-1*(10 ** -6),0*(10 ** -6),100)\n",
    "tt = np.linspace(0*(10 ** -6),1*(10 ** -6),100)\n",
    "yy = np.linspace(1*(10 ** -6),2*(10 ** -6),100)\n",
    "fig, ax = plt.subplots()\n",
    "ax.plot(rr,Field_TE_03(Newton(JL,8.1), rr), label= 'x<0', color='black')\n",
    "ax.plot(tt,Field_TE_02(Newton(JL,8.1), tt), label= r'$0\\leq{x}\\leq{h}$', color='#FA8072')\n",
    "ax.plot(yy,Field_TE_01(Newton(JL,8.1), yy), label= 'x>0', color='#00FF7F')\n",
    "\n",
    "ax.set(xlabel='Longitud transversal de la guía de onda', ylabel='',\n",
    "       title='Campo electrico para el primer modo de propagación m=1')\n",
    "ax.grid()\n",
    "plt.legend(loc='upper right')\n",
    "fig.tight_layout()\n",
    "plt.savefig('Campo electrico para el primer modo de propagación m=1.png')\n",
    "plt.show()"
   ]
  },
  {
   "cell_type": "markdown",
   "id": "9cfb796e-51f8-4f6f-962c-af16f5e31ac5",
   "metadata": {},
   "source": [
    "Para el segundo modo:"
   ]
  },
  {
   "cell_type": "code",
   "execution_count": 47,
   "id": "7cc58d04-c301-411e-8974-4b8a5e751ce1",
   "metadata": {},
   "outputs": [
    {
     "data": {
      "image/png": "[encoded data removed]",
      "text/plain": [
       "<Figure size 432x288 with 1 Axes>"
      ]
     },
     "metadata": {
      "needs_background": "light"
     },
     "output_type": "display_data"
    }
   ],
   "source": [
    "uu = np.linspace(-1*(10 ** -6),0*(10 ** -6),100)\n",
    "ii = np.linspace(0*(10 ** -6),1*(10 ** -6),100)\n",
    "oo = np.linspace(1*(10 ** -6),2*(10 ** -6),100)\n",
    "fig, ax = plt.subplots()\n",
    "ax.plot(uu,Field_TE_03(Newton(JL,6.4), uu), label= 'x<0', color='black')\n",
    "ax.plot(ii,Field_TE_02(Newton(JL,6.4), ii), label= r'$0\\leq{x}\\leq{h}$', color='#FA8072')\n",
    "ax.plot(oo,Field_TE_01(Newton(JL,6.4), oo), label= 'x>0', color='#00FF7F')\n",
    "\n",
    "ax.set(xlabel='Longitud transversal de la guía de onda', ylabel='',\n",
    "       title='Campo electrico para el segundo modo de propagación m=2')\n",
    "ax.grid()\n",
    "plt.legend(loc='upper right')\n",
    "fig.tight_layout()\n",
    "plt.savefig('Campo electrico para el segundo modo de propagación m=2.png')\n",
    "plt.show()"
   ]
  },
  {
   "cell_type": "markdown",
   "id": "a75ce2ac-57e3-4a78-9c42-9ca56ebda5b5",
   "metadata": {},
   "source": [
    "## Campo magnetico"
   ]
  },
  {
   "cell_type": "code",
   "execution_count": 41,
   "id": "13198dea-226d-434f-a751-3fb935522335",
   "metadata": {},
   "outputs": [],
   "source": [
    "def Field_TM_01(beta, x):\n",
    "    ax = np.sqrt(((beta * (10 ** 6))**2) - (ko**2)*(ncl**2))\n",
    "    kx = np.sqrt(-((beta * (10 ** 6))**2) + (ko**2)*(nco**2))\n",
    "    fte = (np.cos(kx*h)+((nco**2) / (ncl**2))*(ax/kx)*np.sin(kx*h))*np.exp(-ax*(x-h))\n",
    "    return fte\n",
    "\n",
    "def Field_TM_02(beta, x):\n",
    "    ax = np.sqrt(((beta * (10 ** 6))**2) - (ko**2)*(ncl**2))\n",
    "    kx = np.sqrt(-((beta * (10 ** 6))**2) + (ko**2)*(nco**2))\n",
    "    fte = np.cos(kx*x)+((nco**2) / (ncl**2))*(ax/kx)*np.sin(kx*x)\n",
    "    return fte\n",
    "\n",
    "def Field_TM_03(beta, x):\n",
    "    ax = np.sqrt(((beta * (10 ** 6))**2) - (ko**2)*(ncl**2))\n",
    "    kx = np.sqrt(-((beta * (10 ** 6))**2) + (ko**2)*(nco**2))\n",
    "    fte = np.exp(ax*x)\n",
    "    return fte"
   ]
  },
  {
   "cell_type": "code",
   "execution_count": 48,
   "id": "1c5a08f8-3559-435d-b246-514bbc67e8b5",
   "metadata": {},
   "outputs": [
    {
     "data": {
      "image/png": "[encoded data removed]",
      "text/plain": [
       "<Figure size 432x288 with 1 Axes>"
      ]
     },
     "metadata": {
      "needs_background": "light"
     },
     "output_type": "display_data"
    }
   ],
   "source": [
    "aa = np.linspace(-1*(10 ** -6),0*(10 ** -6),100)\n",
    "ss = np.linspace(0*(10 ** -6),1*(10 ** -6),100)\n",
    "dd = np.linspace(1*(10 ** -6),2*(10 ** -6),100)\n",
    "fig, ax = plt.subplots()\n",
    "ax.plot(aa,Field_TM_03(Newton(QW,9), aa), label= 'x<0', color='black')\n",
    "ax.plot(ss,Field_TM_02(Newton(QW,9), ss), label= r'$0\\leq{x}\\leq{h}$', color='#FA8072')\n",
    "ax.plot(dd,Field_TM_01(Newton(QW,9), dd), label= 'x>0', color='#00FF7F')\n",
    "\n",
    "ax.set(xlabel='Longitud transversal de la guía de onda', ylabel='',\n",
    "       title='Campo magnetico para el modo fundamental de propagación m=0')\n",
    "ax.grid()\n",
    "plt.legend(loc='upper right')\n",
    "fig.tight_layout()\n",
    "plt.savefig('Campo magnetico para el modo fundamental de propagación m=0.png')\n",
    "plt.show()"
   ]
  },
  {
   "cell_type": "code",
   "execution_count": 49,
   "id": "7bae7c1e-8f89-4979-a04b-e321fcfe6a05",
   "metadata": {},
   "outputs": [
    {
     "data": {
      "image/png": "[encoded data removed]",
      "text/plain": [
       "<Figure size 432x288 with 1 Axes>"
      ]
     },
     "metadata": {
      "needs_background": "light"
     },
     "output_type": "display_data"
    }
   ],
   "source": [
    "ff = np.linspace(-1*(10 ** -6),0*(10 ** -6),100)\n",
    "gg = np.linspace(0*(10 ** -6),1*(10 ** -6),100)\n",
    "hh = np.linspace(1*(10 ** -6),2*(10 ** -6),100)\n",
    "fig, ax = plt.subplots()\n",
    "ax.plot(ff,Field_TM_03(Newton(QW,8.1), ff), label= 'x<0', color='black')\n",
    "ax.plot(gg,Field_TM_02(Newton(QW,8.1), gg), label= r'$0\\leq{x}\\leq{h}$', color='#FA8072')\n",
    "ax.plot(hh,Field_TM_01(Newton(QW,8.1), hh), label= 'x>0', color='#00FF7F')\n",
    "\n",
    "ax.set(xlabel='Longitud transversal de la guía de onda', ylabel='',\n",
    "       title='Campo magnetico para el primer modo de propagación m=1')\n",
    "ax.grid()\n",
    "plt.legend(loc='upper right')\n",
    "fig.tight_layout()\n",
    "plt.savefig('Campo magnetico para el primer modo de propagación m=1.png')\n",
    "plt.show()"
   ]
  },
  {
   "cell_type": "code",
   "execution_count": 51,
   "id": "d007748d-e7b4-4083-8e38-47eaf227bafd",
   "metadata": {},
   "outputs": [
    {
     "data": {
      "image/png": "[encoded data removed]",
      "text/plain": [
       "<Figure size 432x288 with 1 Axes>"
      ]
     },
     "metadata": {
      "needs_background": "light"
     },
     "output_type": "display_data"
    }
   ],
   "source": [
    "uu = np.linspace(-1*(10 ** -6),0*(10 ** -6),100)\n",
    "ii = np.linspace(0*(10 ** -6),1*(10 ** -6),100)\n",
    "oo = np.linspace(1*(10 ** -6),2*(10 ** -6),100)\n",
    "fig, ax = plt.subplots()\n",
    "ax.plot(uu,Field_TM_03(Newton(QW,6.4), uu), label= 'x<0', color='black')\n",
    "ax.plot(ii,Field_TM_02(Newton(QW,6.4), ii), label= r'$0\\leq{x}\\leq{h}$', color='#FA8072')\n",
    "ax.plot(oo,Field_TM_01(Newton(QW,6.4), oo), label= 'x>0', color='#00FF7F')\n",
    "\n",
    "ax.set(xlabel='Longitud transversal de la guía de onda', ylabel='',\n",
    "       title='Campo magnetico para el segundo modo de propagación m=2')\n",
    "ax.grid()\n",
    "plt.legend(loc='lower right')\n",
    "fig.tight_layout()\n",
    "plt.savefig('Campo magnetico para el segundo modo de propagación m=2.png')\n",
    "plt.show()"
   ]
  }
 ],
 "metadata": {
  "kernelspec": {
   "display_name": "Python 3",
   "language": "python",
   "name": "python3"
  },
  "language_info": {
   "codemirror_mode": {
    "name": "ipython",
    "version": 3
   },
   "file_extension": ".py",
   "mimetype": "text/x-python",
   "name": "python",
   "nbconvert_exporter": "python",
   "pygments_lexer": "ipython3",
   "version": "3.8.8"
  }
 },
 "nbformat": 4,
 "nbformat_minor": 5
}
